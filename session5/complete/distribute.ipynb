{
 "cells": [
  {
   "cell_type": "code",
   "execution_count": 6,
   "metadata": {},
   "outputs": [
    {
     "name": "stdout",
     "output_type": "stream",
     "text": [
      "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\n"
     ]
    }
   ],
   "source": [
    "# disperse\n",
    "from ecc import PrivateKey\n",
    "from helper import decode_base58, p2pkh_script, SIGHASH_ALL\n",
    "from script import Script\n",
    "from tx import TxIn, TxOut, Tx\n",
    "import requests\n",
    "\n",
    "secret = 61740721216174072121\n",
    "priv = PrivateKey(secret=secret)\n",
    "my_address = priv.point.address(testnet=True)\n",
    "target_amount = 0.1\n",
    "fee = 0.005\n",
    "\n",
    "response = requests.get('https://testnet.blockexplorer.com/api/addr/{}/utxo'.format(my_address))\n",
    "utxos = response.json()\n",
    "\n",
    "student_addresses = [\n",
    "]\n",
    "# initialize inputs\n",
    "tx_ins = []\n",
    "total = 0\n",
    "for utxo in utxos:\n",
    "    prev_tx = bytes.fromhex(utxo['txid'])\n",
    "    prev_index = utxo['vout']\n",
    "    total += utxo['amount']\n",
    "    # create a new tx input\n",
    "    tx_ins.append(TxIn(\n",
    "            prev_tx=prev_tx,\n",
    "            prev_index=prev_index,\n",
    "            script_sig=b'',\n",
    "            sequence=0xffffffff,\n",
    "        ))\n",
    "\n",
    "# initialize outputs\n",
    "tx_outs = []\n",
    "\n",
    "for target_address in student_addresses:\n",
    "    # decode the hash160 from the target address\n",
    "    h160 = decode_base58(target_address)\n",
    "    # convert hash160 to p2pkh script\n",
    "    script_pubkey = p2pkh_script(h160)\n",
    "    # convert target amount to satoshis (multiply by 100 million)\n",
    "    target_satoshis = int(target_amount*100000000)\n",
    "    # create a new tx output for target\n",
    "    tx_outs.append(TxOut(\n",
    "        amount=target_satoshis,\n",
    "        script_pubkey=script_pubkey,\n",
    "    ))\n",
    "\n",
    "change_amount = total - target_amount*len(student_addresses) - fee\n",
    "\n",
    "h160 = decode_base58(my_address)\n",
    "script_pubkey = p2pkh_script(h160)\n",
    "change_satoshis = int(change_amount*100000000)\n",
    "tx_outs.append(TxOut(amount=change_satoshis, script_pubkey=script_pubkey))\n",
    "\n",
    "# create the transaction\n",
    "tx_obj = Tx(version=1, tx_ins=tx_ins, tx_outs=tx_outs, locktime=0, testnet=True)\n",
    "\n",
    "# now sign the 0th input with the private key using SIGHASH_ALL using sign_input\n",
    "for i in range(len(tx_obj.tx_ins)):\n",
    "    tx_obj.sign_input(i, priv, SIGHASH_ALL)\n",
    "\n",
    "# SANITY CHECK: fee is reasonable\n",
    "if tx_obj.fee(testnet=True) > 0.05*100000000 or tx_obj.fee(testnet=True) <= 0:\n",
    "    raise RuntimeError('Check that the change amount is reasonable. Fee is {}'.format(tx_obj.fee()))\n",
    "\n",
    "# serialize and hex()\n",
    "print(tx_obj.serialize().hex())"
   ]
  },
  {
   "cell_type": "code",
   "execution_count": null,
   "metadata": {},
   "outputs": [],
   "source": []
  }
 ],
 "metadata": {
  "kernelspec": {
   "display_name": "Python 3",
   "language": "python",
   "name": "python3"
  },
  "language_info": {
   "codemirror_mode": {
    "name": "ipython",
    "version": 3
   },
   "file_extension": ".py",
   "mimetype": "text/x-python",
   "name": "python",
   "nbconvert_exporter": "python",
   "pygments_lexer": "ipython3",
   "version": "3.5.2"
  }
 },
 "nbformat": 4,
 "nbformat_minor": 2
}
